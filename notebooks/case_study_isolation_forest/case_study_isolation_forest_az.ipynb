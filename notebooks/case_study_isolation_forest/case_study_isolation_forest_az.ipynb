{
 "cells": [
  {
   "cell_type": "code",
   "execution_count": null,
   "id": "completed-mexico",
   "metadata": {},
   "outputs": [],
   "source": [
    "## SET UP AZUREML DETAILS\n",
    "# imports\n",
    "from azureml.core.authentication import InteractiveLoginAuthentication\n",
    "from azureml.core import Workspace, Environment, Experiment, Dataset, ScriptRunConfig\n",
    "\n",
    "# set up workspace\n",
    "config_path = '../../utils/config.json'\n",
    "tenant_id = '72f988bf-86f1-41af-91ab-2d7cd011db47'  # this is outputted post `az login`\n",
    "interactive_auth = InteractiveLoginAuthentication(tenant_id=tenant_id)  # create log-in object\n",
    "ws = Workspace.from_config(path=config_path, auth=interactive_auth)  # link workspace\n",
    "\n",
    "# set up environment\n",
    "# - obtain environment.yml from `conda env export > environment.yml`\n",
    "env_name = 'SampleEnv'\n",
    "env_path = '../../utils/environment_case_study_isolation_forest.yml'\n",
    "env = Environment.from_conda_specification(name=env_name, file_path=env_path)\n",
    "\n",
    "# set up experiment\n",
    "experiment_name = 'IsolationForestSample'\n",
    "exp = Experiment(workspace=ws, name=experiment_name)\n",
    "\n",
    "# set up dataset\n",
    "dataset_path = 'http://kdd.ics.uci.edu/databases/kddcup99/kddcup.data_10_percent.gz'\n",
    "ds = Dataset.File.from_files(dataset_path)\n",
    "\n",
    "# set up run\n",
    "src_dir = '../../src/case_study_isolation_forest'\n",
    "src_name = 'azure_isolation_forest_case_study.py'\n",
    "compute_name = 'WorkspaceCompute'\n",
    "arguments = ['--data-path', ds.as_mount()]\n",
    "src = ScriptRunConfig(source_directory=src_dir, script=src_name, compute_target=compute_name,\n",
    "                      environment=env, arguments=arguments)\n"
   ]
  },
  {
   "cell_type": "code",
   "execution_count": null,
   "id": "atomic-piano",
   "metadata": {
    "scrolled": false
   },
   "outputs": [],
   "source": [
    "## SUBMIT THE RUN\n",
    "from azureml.widgets import RunDetails\n",
    "\n",
    "run = exp.submit(src)  # submit it to the azureml platform\n",
    "RunDetails(run).show()  # monitor the steps\n"
   ]
  },
  {
   "cell_type": "code",
   "execution_count": null,
   "id": "failing-visitor",
   "metadata": {
    "scrolled": true
   },
   "outputs": [],
   "source": [
    "# show the outputs\n",
    "run.wait_for_completion(show_output=True)\n"
   ]
  },
  {
   "cell_type": "code",
   "execution_count": null,
   "id": "emotional-cheese",
   "metadata": {},
   "outputs": [],
   "source": []
  }
 ],
 "metadata": {
  "kernelspec": {
   "display_name": "Python 3",
   "language": "python",
   "name": "python3"
  },
  "language_info": {
   "codemirror_mode": {
    "name": "ipython",
    "version": 3
   },
   "file_extension": ".py",
   "mimetype": "text/x-python",
   "name": "python",
   "nbconvert_exporter": "python",
   "pygments_lexer": "ipython3",
   "version": "3.8.5"
  }
 },
 "nbformat": 4,
 "nbformat_minor": 5
}
