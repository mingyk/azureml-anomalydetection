{
 "cells": [
  {
   "cell_type": "code",
   "execution_count": 1,
   "metadata": {},
   "outputs": [
    {
     "name": "stderr",
     "output_type": "stream",
     "text": [
      "/Users/danielgchen/anaconda3/envs/base_py37/lib/python3.7/site-packages/statsmodels/tools/_testing.py:19: FutureWarning: pandas.util.testing is deprecated. Use the functions in the public API at pandas.testing instead.\n",
      "  import pandas.util.testing as tm\n"
     ]
    }
   ],
   "source": [
    "# import\n",
    "import pandas as pd\n",
    "import numpy as np\n",
    "import seaborn as sns\n",
    "import matplotlib.pyplot as plt\n",
    "import random\n",
    "from sklearn.neighbors import LocalOutlierFactor\n",
    "from sklearn.model_selection import train_test_split\n",
    "from sklearn.preprocessing import LabelEncoder\n",
    "# set defaults\n",
    "plt.rcParams['figure.dpi'] = 80\n"
   ]
  },
  {
   "cell_type": "markdown",
   "metadata": {},
   "source": [
    "# Data Processing"
   ]
  },
  {
   "cell_type": "markdown",
   "metadata": {},
   "source": [
    "## Load Data"
   ]
  },
  {
   "cell_type": "code",
   "execution_count": 2,
   "metadata": {},
   "outputs": [
    {
     "data": {
      "text/html": [
       "<div>\n",
       "<style scoped>\n",
       "    .dataframe tbody tr th:only-of-type {\n",
       "        vertical-align: middle;\n",
       "    }\n",
       "\n",
       "    .dataframe tbody tr th {\n",
       "        vertical-align: top;\n",
       "    }\n",
       "\n",
       "    .dataframe thead th {\n",
       "        text-align: right;\n",
       "    }\n",
       "</style>\n",
       "<table border=\"1\" class=\"dataframe\">\n",
       "  <thead>\n",
       "    <tr style=\"text-align: right;\">\n",
       "      <th></th>\n",
       "      <th>0</th>\n",
       "      <th>1</th>\n",
       "      <th>2</th>\n",
       "      <th>3</th>\n",
       "      <th>4</th>\n",
       "      <th>5</th>\n",
       "      <th>6</th>\n",
       "      <th>7</th>\n",
       "      <th>8</th>\n",
       "      <th>9</th>\n",
       "      <th>...</th>\n",
       "      <th>32</th>\n",
       "      <th>33</th>\n",
       "      <th>34</th>\n",
       "      <th>35</th>\n",
       "      <th>36</th>\n",
       "      <th>37</th>\n",
       "      <th>38</th>\n",
       "      <th>39</th>\n",
       "      <th>40</th>\n",
       "      <th>41</th>\n",
       "    </tr>\n",
       "  </thead>\n",
       "  <tbody>\n",
       "    <tr>\n",
       "      <th>22650</th>\n",
       "      <td>1</td>\n",
       "      <td>tcp</td>\n",
       "      <td>smtp</td>\n",
       "      <td>SF</td>\n",
       "      <td>1022</td>\n",
       "      <td>389</td>\n",
       "      <td>0</td>\n",
       "      <td>0</td>\n",
       "      <td>0</td>\n",
       "      <td>0</td>\n",
       "      <td>...</td>\n",
       "      <td>175</td>\n",
       "      <td>0.64</td>\n",
       "      <td>0.02</td>\n",
       "      <td>0.01</td>\n",
       "      <td>0.02</td>\n",
       "      <td>0.0</td>\n",
       "      <td>0.0</td>\n",
       "      <td>0.0</td>\n",
       "      <td>0.0</td>\n",
       "      <td>normal.</td>\n",
       "    </tr>\n",
       "    <tr>\n",
       "      <th>5765</th>\n",
       "      <td>0</td>\n",
       "      <td>tcp</td>\n",
       "      <td>http</td>\n",
       "      <td>SF</td>\n",
       "      <td>376</td>\n",
       "      <td>285</td>\n",
       "      <td>0</td>\n",
       "      <td>0</td>\n",
       "      <td>0</td>\n",
       "      <td>0</td>\n",
       "      <td>...</td>\n",
       "      <td>255</td>\n",
       "      <td>1.00</td>\n",
       "      <td>0.00</td>\n",
       "      <td>0.00</td>\n",
       "      <td>0.00</td>\n",
       "      <td>0.0</td>\n",
       "      <td>0.0</td>\n",
       "      <td>0.0</td>\n",
       "      <td>0.0</td>\n",
       "      <td>normal.</td>\n",
       "    </tr>\n",
       "    <tr>\n",
       "      <th>241826</th>\n",
       "      <td>0</td>\n",
       "      <td>icmp</td>\n",
       "      <td>ecr_i</td>\n",
       "      <td>SF</td>\n",
       "      <td>1032</td>\n",
       "      <td>0</td>\n",
       "      <td>0</td>\n",
       "      <td>0</td>\n",
       "      <td>0</td>\n",
       "      <td>0</td>\n",
       "      <td>...</td>\n",
       "      <td>255</td>\n",
       "      <td>1.00</td>\n",
       "      <td>0.00</td>\n",
       "      <td>1.00</td>\n",
       "      <td>0.00</td>\n",
       "      <td>0.0</td>\n",
       "      <td>0.0</td>\n",
       "      <td>0.0</td>\n",
       "      <td>0.0</td>\n",
       "      <td>smurf.</td>\n",
       "    </tr>\n",
       "    <tr>\n",
       "      <th>292391</th>\n",
       "      <td>0</td>\n",
       "      <td>icmp</td>\n",
       "      <td>ecr_i</td>\n",
       "      <td>SF</td>\n",
       "      <td>1032</td>\n",
       "      <td>0</td>\n",
       "      <td>0</td>\n",
       "      <td>0</td>\n",
       "      <td>0</td>\n",
       "      <td>0</td>\n",
       "      <td>...</td>\n",
       "      <td>255</td>\n",
       "      <td>1.00</td>\n",
       "      <td>0.00</td>\n",
       "      <td>1.00</td>\n",
       "      <td>0.00</td>\n",
       "      <td>0.0</td>\n",
       "      <td>0.0</td>\n",
       "      <td>0.0</td>\n",
       "      <td>0.0</td>\n",
       "      <td>smurf.</td>\n",
       "    </tr>\n",
       "    <tr>\n",
       "      <th>392127</th>\n",
       "      <td>0</td>\n",
       "      <td>tcp</td>\n",
       "      <td>private</td>\n",
       "      <td>S0</td>\n",
       "      <td>0</td>\n",
       "      <td>0</td>\n",
       "      <td>0</td>\n",
       "      <td>0</td>\n",
       "      <td>0</td>\n",
       "      <td>0</td>\n",
       "      <td>...</td>\n",
       "      <td>1</td>\n",
       "      <td>0.00</td>\n",
       "      <td>0.06</td>\n",
       "      <td>0.00</td>\n",
       "      <td>0.00</td>\n",
       "      <td>1.0</td>\n",
       "      <td>1.0</td>\n",
       "      <td>0.0</td>\n",
       "      <td>0.0</td>\n",
       "      <td>neptune.</td>\n",
       "    </tr>\n",
       "  </tbody>\n",
       "</table>\n",
       "<p>5 rows × 42 columns</p>\n",
       "</div>"
      ],
      "text/plain": [
       "        0     1        2   3     4    5  6  7  8  9  ...   32    33    34  \\\n",
       "22650   1   tcp     smtp  SF  1022  389  0  0  0  0  ...  175  0.64  0.02   \n",
       "5765    0   tcp     http  SF   376  285  0  0  0  0  ...  255  1.00  0.00   \n",
       "241826  0  icmp    ecr_i  SF  1032    0  0  0  0  0  ...  255  1.00  0.00   \n",
       "292391  0  icmp    ecr_i  SF  1032    0  0  0  0  0  ...  255  1.00  0.00   \n",
       "392127  0   tcp  private  S0     0    0  0  0  0  0  ...    1  0.00  0.06   \n",
       "\n",
       "          35    36   37   38   39   40        41  \n",
       "22650   0.01  0.02  0.0  0.0  0.0  0.0   normal.  \n",
       "5765    0.00  0.00  0.0  0.0  0.0  0.0   normal.  \n",
       "241826  1.00  0.00  0.0  0.0  0.0  0.0    smurf.  \n",
       "292391  1.00  0.00  0.0  0.0  0.0  0.0    smurf.  \n",
       "392127  0.00  0.00  1.0  1.0  0.0  0.0  neptune.  \n",
       "\n",
       "[5 rows x 42 columns]"
      ]
     },
     "execution_count": 2,
     "metadata": {},
     "output_type": "execute_result"
    }
   ],
   "source": [
    "# read data\n",
    "df = pd.read_csv('../data/kddcup.data_0_1_percent.csv', index_col=0)\n",
    "df.head()  # small view\n"
   ]
  },
  {
   "cell_type": "markdown",
   "metadata": {},
   "source": [
    "## Subset Data"
   ]
  },
  {
   "cell_type": "code",
   "execution_count": 3,
   "metadata": {},
   "outputs": [
    {
     "name": "stdout",
     "output_type": "stream",
     "text": [
      "Passing labels = ['smurf.', 'neptune.', 'normal.']\n"
     ]
    }
   ],
   "source": [
    "# filter labels\n",
    "labels = df['41'].value_counts()  # n-obs / label\n",
    "mask = labels > df.shape[0] * 0.05  # label must encompass > 5% of the data\n",
    "labels = labels.index[mask]  # get passing labels\n",
    "print(f'Passing labels = {labels.tolist()}')\n",
    "df = df[df['41'].isin(labels)]\n"
   ]
  },
  {
   "cell_type": "markdown",
   "metadata": {},
   "source": [
    "# Run Model"
   ]
  },
  {
   "cell_type": "markdown",
   "metadata": {},
   "source": [
    "We'll run this model using only what is \"normal\" as this allows for the density to be hyper-tuned"
   ]
  },
  {
   "cell_type": "markdown",
   "metadata": {},
   "source": [
    "## Prepare Data"
   ]
  },
  {
   "cell_type": "code",
   "execution_count": 4,
   "metadata": {},
   "outputs": [],
   "source": [
    "# set random seeds\n",
    "random_state = 0\n",
    "random.seed(random_state)\n",
    "np.random.seed(random_state)\n",
    "# split data\n",
    "# - if it's an intrusion\n",
    "df_normal = df[df['41']=='normal.']\n",
    "df_intrusion = df[df['41']!='normal.']\n",
    "# - normal ml splitting\n",
    "X, y = df_normal.iloc[:, :-1], df_normal.iloc[:, -1]  # last column is label\n",
    "for col in X.columns:\n",
    "    le = LabelEncoder()  # instantiate one-hot-encoder\n",
    "    le.fit(X[col])  # fit the classes\n",
    "    X[col] = le.transform(X[col])  # transform data\n",
    "params = train_test_split(X, y, test_size=1/4, random_state=random_state, shuffle=True, stratify=y)\n",
    "X_train, X_test, y_train, y_test = params\n"
   ]
  },
  {
   "cell_type": "markdown",
   "metadata": {},
   "source": [
    "## Instantiate Model"
   ]
  },
  {
   "cell_type": "markdown",
   "metadata": {},
   "source": [
    "Local density factor utilizes a neighborhood graph to determine the density of an observation, the more neighbors the point has, the more dense it is in the high-dimensional space and thus the more \"inliner\" it is likely to be."
   ]
  },
  {
   "cell_type": "code",
   "execution_count": 5,
   "metadata": {},
   "outputs": [
    {
     "data": {
      "text/plain": [
       "LocalOutlierFactor(algorithm='auto', contamination='auto', leaf_size=30,\n",
       "                   metric='minkowski', metric_params=None, n_jobs=None,\n",
       "                   n_neighbors=20, novelty=True, p=2)"
      ]
     },
     "execution_count": 5,
     "metadata": {},
     "output_type": "execute_result"
    }
   ],
   "source": [
    "# fit model - utilizes \"density\" to group samples together\n",
    "model = LocalOutlierFactor(n_neighbors=20, novelty=True)\n",
    "model.fit(X_train)\n"
   ]
  },
  {
   "cell_type": "markdown",
   "metadata": {},
   "source": [
    "### Evaluate Model"
   ]
  },
  {
   "cell_type": "markdown",
   "metadata": {},
   "source": [
    "When evaluating LOF results, the decision function returns the inliner score (density), larger score = more dense and  more likely it is an inliner observation."
   ]
  },
  {
   "cell_type": "code",
   "execution_count": 6,
   "metadata": {
    "scrolled": true
   },
   "outputs": [
    {
     "data": {
      "text/plain": [
       "<matplotlib.axes._subplots.AxesSubplot at 0x7faa9f533610>"
      ]
     },
     "execution_count": 6,
     "metadata": {},
     "output_type": "execute_result"
    },
    {
     "data": {
      "image/png": "[encoded data removed]",
      "text/plain": [
       "<Figure size 400x400 with 1 Axes>"
      ]
     },
     "metadata": {
      "needs_background": "light"
     },
     "output_type": "display_data"
    }
   ],
   "source": [
    "# plot values\n",
    "# - construct dataframe\n",
    "plot_df1A = pd.DataFrame(model.decision_function(X_train), columns=['InlinerScore'])\n",
    "plot_df1A['Category'] = (y_train + '-train').values\n",
    "plot_df1B = pd.DataFrame(model.decision_function(X_test), columns=['InlinerScore'])\n",
    "plot_df1B['Category'] = (y_test + '-test').values\n",
    "X_test_intrusion = df_intrusion.iloc[:, :-1]\n",
    "for col in X_test_intrusion.columns:\n",
    "    le = LabelEncoder()  # instantiate one-hot-encoder\n",
    "    le.fit(X_test_intrusion[col])  # fit the classes\n",
    "    X_test_intrusion[col] = le.transform(X_test_intrusion[col])  # transform data\n",
    "plot_df2 = pd.DataFrame(model.decision_function(X_test_intrusion), columns=['InlinerScore'])\n",
    "plot_df2['Category'] = df_intrusion.iloc[:, -1].values\n",
    "plot_df = pd.concat([plot_df1A, plot_df1B, plot_df2])\n",
    "# - plot boxplot\n",
    "fig,ax = plt.subplots(figsize=[5,5])\n",
    "sns.boxplot(x='Category', y='InlinerScore', data=plot_df, ax=ax)\n"
   ]
  },
  {
   "cell_type": "markdown",
   "metadata": {},
   "source": [
    "There are more observations here from the \"normal\" categories that are mis-assigned as anomalies, this may be due to the sole reliance of kNN-based detection on density-related factors rather than the rule-based density-influenced algorithm that isolation forest utilizes."
   ]
  },
  {
   "cell_type": "code",
   "execution_count": 7,
   "metadata": {},
   "outputs": [
    {
     "data": {
      "image/png": "[encoded data removed]",
      "text/plain": [
       "<Figure size 240x400 with 1 Axes>"
      ]
     },
     "metadata": {
      "needs_background": "light"
     },
     "output_type": "display_data"
    }
   ],
   "source": [
    "from sklearn.metrics import f1_score\n",
    "# compute f1 scores\n",
    "f1_normal_train = f1_score([1]*X_train.shape[0], model.predict(X_train), pos_label=1)\n",
    "f1_normal_test = f1_score([1]*X_test.shape[0], model.predict(X_test), pos_label=1)\n",
    "f1_intrusion_smurf = f1_score([-1]*sum(df['41']=='smurf.'),\n",
    "                              model.predict(X_test_intrusion[df_intrusion.iloc[:, -1]=='smurf.']), pos_label=-1)\n",
    "f1_intrusion_neptune = f1_score([-1]*sum(df['41']=='neptune.'),\n",
    "                                model.predict(X_test_intrusion[df_intrusion.iloc[:, -1]=='neptune.']), pos_label=-1)\n",
    "f1_intrusion = f1_score([-1]*X_test_intrusion.shape[0], model.predict(X_test_intrusion), pos_label=-1)\n",
    "\n",
    "# construct dataframe\n",
    "f1_scores = [f1_normal_train, f1_normal_test, f1_intrusion_smurf, f1_intrusion_neptune, f1_intrusion]\n",
    "categories = ['Normal-Train', 'Normal-Test', 'Intrusion-Smurf', 'Intrusion-Neptune', 'Intrusion']\n",
    "plot_df = pd.DataFrame([f1_scores, categories], index=['F1 Score', 'Category']).T\n",
    "plot_df = plot_df.sort_values('F1 Score')\n",
    "\n",
    "# plot boxplot\n",
    "fig,ax = plt.subplots(figsize=[3,5])\n",
    "sns.barplot(x='Category', y='F1 Score', data=plot_df, ax=ax)\n",
    "ax.tick_params(axis='x', labelrotation=90)\n"
   ]
  },
  {
   "cell_type": "markdown",
   "metadata": {},
   "source": [
    "Using the F1-score (weighted measurment of precision and recall) we find that the model excels in normal detection but fails in terms of \"neptune\" intrusion detection, which agrees with the previous boxplot."
   ]
  }
 ],
 "metadata": {
  "kernelspec": {
   "display_name": "Python 3",
   "language": "python",
   "name": "python3"
  },
  "language_info": {
   "codemirror_mode": {
    "name": "ipython",
    "version": 3
   },
   "file_extension": ".py",
   "mimetype": "text/x-python",
   "name": "python",
   "nbconvert_exporter": "python",
   "pygments_lexer": "ipython3",
   "version": "3.8.5"
  }
 },
 "nbformat": 4,
 "nbformat_minor": 4
}
