{
 "cells": [
  {
   "cell_type": "code",
   "execution_count": 1,
   "id": "maritime-halifax",
   "metadata": {},
   "outputs": [
    {
     "name": "stderr",
     "output_type": "stream",
     "text": [
      "Warning: Falling back to use azure cli login credentials.\n",
      "If you run your code in unattended mode, i.e., where you can't give a user input, then we recommend to use ServicePrincipalAuthentication or MsiAuthentication.\n",
      "Please refer to aka.ms/aml-notebook-auth for different authentication mechanisms in azureml-sdk.\n"
     ]
    }
   ],
   "source": [
    "## SET UP AZUREML DETAILS\n",
    "# imports\n",
    "from azureml.core.authentication import InteractiveLoginAuthentication\n",
    "from azureml.core import Workspace, Environment, Experiment, Dataset, ScriptRunConfig\n",
    "\n",
    "# set up workspace\n",
    "config_path = '../../utils/config_GPU.json'\n",
    "tenant_id = '72f988bf-86f1-41af-91ab-2d7cd011db47'  # this is outputted post `az login`\n",
    "interactive_auth = InteractiveLoginAuthentication(tenant_id=tenant_id)  # create log-in object\n",
    "ws = Workspace.from_config(path=config_path, auth=interactive_auth)  # link workspace\n",
    "\n",
    "# set up environment\n",
    "# - obtain environment.yml from `conda env export > environment.yml`\n",
    "env_name = 'SampleEnv'\n",
    "env_path = '../../utils/environment_case_study.yml'\n",
    "env = Environment(workspace=ws, name='AzureML-sklearn-0.24-ubuntu18.04-py37-cuda11-gpu')\n",
    "env.save_to_directory(path='../../utils/environment_sklearn_0.24_ubuntu18.04_py37_cuda11_gpu')\n"
   ]
  },
  {
   "cell_type": "code",
   "execution_count": null,
   "id": "victorian-moral",
   "metadata": {},
   "outputs": [],
   "source": []
  },
  {
   "cell_type": "code",
   "execution_count": null,
   "id": "ancient-underwear",
   "metadata": {},
   "outputs": [],
   "source": []
  }
 ],
 "metadata": {
  "kernelspec": {
   "display_name": "Python 3",
   "language": "python",
   "name": "python3"
  },
  "language_info": {
   "codemirror_mode": {
    "name": "ipython",
    "version": 3
   },
   "file_extension": ".py",
   "mimetype": "text/x-python",
   "name": "python",
   "nbconvert_exporter": "python",
   "pygments_lexer": "ipython3",
   "version": "3.8.5"
  }
 },
 "nbformat": 4,
 "nbformat_minor": 5
}
