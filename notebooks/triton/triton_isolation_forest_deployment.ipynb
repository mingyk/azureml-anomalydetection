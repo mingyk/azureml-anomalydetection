{
 "cells": [
  {
   "cell_type": "code",
   "execution_count": 1,
   "id": "victorian-preservation",
   "metadata": {},
   "outputs": [
    {
     "name": "stderr",
     "output_type": "stream",
     "text": [
      "Warning: Falling back to use azure cli login credentials.\n",
      "If you run your code in unattended mode, i.e., where you can't give a user input, then we recommend to use ServicePrincipalAuthentication or MsiAuthentication.\n",
      "Please refer to aka.ms/aml-notebook-auth for different authentication mechanisms in azureml-sdk.\n"
     ]
    }
   ],
   "source": [
    "# import packages\n",
    "from azureml.core.authentication import InteractiveLoginAuthentication\n",
    "from azureml.core import Workspace\n",
    "\n",
    "# set up AzureML workspace\n",
    "config_path = '../../utils/config.json'\n",
    "tenant_id = '72f988bf-86f1-41af-91ab-2d7cd011db47'  # this is outputted post `az login`\n",
    "interactive_auth = InteractiveLoginAuthentication(tenant_id=tenant_id)  # create log-in object\n",
    "ws = Workspace.from_config(path=config_path, auth=interactive_auth)  # link workspace\n"
   ]
  },
  {
   "cell_type": "code",
   "execution_count": 2,
   "id": "miniature-phrase",
   "metadata": {
    "scrolled": true
   },
   "outputs": [],
   "source": [
    "# import packages\n",
    "import shutil, os\n",
    "from sklearn.ensemble import IsolationForest\n",
    "\n",
    "# copy over script for model creation\n",
    "shutil.copy('../../src/triton/triton_isolation_forest.py', '.')\n",
    "from triton_isolation_forest import *\n",
    "\n",
    "# TODO: move this onto azure\n",
    "# preprocess data\n",
    "url = 'http://kdd.ics.uci.edu/databases/kddcup99/kddcup.data_10_percent.gz'  # URL of the public dataset\n",
    "df = download_data(url)  # read data from the url\n",
    "df = process_data(df)  # subset the data and select top labels\n",
    "# split data\n",
    "train, test_norm, test_anom = split_data(df)\n",
    "X_train, y_train = train  # unpack training data\n",
    "# train model\n",
    "model = IsolationForest(random_state=RAND_STATE)\n",
    "model.fit(X_train)\n",
    "# convert into ONNX format\n",
    "from skl2onnx import convert_sklearn\n",
    "from skl2onnx.common.data_types import FloatTensorType\n",
    "initial_types = [('float_input', FloatTensorType([None, X_train.shape[1]]))]\n",
    "onx = convert_sklearn(model, initial_types=initial_types)\n",
    "with open('../../src/triton/isolation_forest.onnx', 'wb') as f:\n",
    "    f.write(onx.SerializeToString())\n",
    "os.remove('triton_isolation_forest.py')\n"
   ]
  },
  {
   "cell_type": "code",
   "execution_count": 3,
   "id": "pressed-private",
   "metadata": {},
   "outputs": [],
   "source": [
    "# define helper functions\n",
    "def instantiate_models(src_file):\n",
    "    '''\n",
    "    creates the expected triton directory system given a source model file\n",
    "    '''\n",
    "    # extract model name and source file name\n",
    "    src_name = os.path.basename(src_file)\n",
    "    model_name = src_name.split('.')[0]  # assumes a <model>.onnx structure\n",
    "    # set outputted directory name and model filename\n",
    "    dir_name = f'models/triton/{model_name}/1/'\n",
    "    file_name = f'{dir_name}{src_name}'\n",
    "    # copies the data over\n",
    "    os.makedirs(dir_name, exist_ok=True)  # instantiate directory\n",
    "    shutil.copy(src_file, file_name)  # copy model onnx file\n",
    "    # return the file/directory locations\n",
    "    return dir_name, file_name\n",
    "\n",
    "def remove_models():\n",
    "    '''\n",
    "    removes the models directory where the triton inputs are stored\n",
    "    '''\n",
    "    try:\n",
    "        shutil.rmtree('models')\n",
    "    except:\n",
    "        print('No models have been created')\n"
   ]
  },
  {
   "cell_type": "code",
   "execution_count": 4,
   "id": "taken-classics",
   "metadata": {},
   "outputs": [
    {
     "name": "stdout",
     "output_type": "stream",
     "text": [
      "Registering model IsolationForestTutorial\n"
     ]
    }
   ],
   "source": [
    "# import packages\n",
    "from azureml.core.model import Model\n",
    "\n",
    "# setup model for registration\n",
    "dir_name,file_name = instantiate_models('../../src/triton/isolation_forest.onnx')\n",
    "# register model\n",
    "model = Model.register(\n",
    "    model_path='models',\n",
    "    model_name='IsolationForestTutorial',\n",
    "    description='Anomaly detection for KDD network intrusion dataset',\n",
    "    workspace=ws,\n",
    "    model_framework=Model.Framework.MULTI,\n",
    ")\n"
   ]
  },
  {
   "cell_type": "code",
   "execution_count": 5,
   "id": "typical-anthropology",
   "metadata": {
    "scrolled": true
   },
   "outputs": [
    {
     "name": "stdout",
     "output_type": "stream",
     "text": [
      "Downloading model IsolationForestTutorial:19 to /var/folders/bb/9zlgrkm55gn33cssm7s0rk300000gn/T/azureml_glpci0wr/IsolationForestTutorial/19\n",
      "Generating Docker build context.\n",
      "Package creation Succeeded\n",
      "Logging into Docker registry 27ebdbdbb34a4186a9c6cf92029c3be2.azurecr.io\n",
      "Logging into Docker registry 27ebdbdbb34a4186a9c6cf92029c3be2.azurecr.io\n",
      "Building Docker image from Dockerfile...\n",
      "Step 1/5 : FROM 27ebdbdbb34a4186a9c6cf92029c3be2.azurecr.io/azureml/azureml_ecf213f7d8b434ab6b63c09a1aa13a32\n",
      " ---> ecd57fef7673\n",
      "Step 2/5 : COPY azureml-app /var/azureml-app\n",
      " ---> f16b03e4f278\n",
      "Step 3/5 : RUN mkdir -p '/var/azureml-app' && echo eyJhY2NvdW50Q29udGV4dCI6eyJzdWJzY3JpcHRpb25JZCI6IjY1NjA1NzVkLWZhMDYtNGU3ZC05NWZiLWY5NjJlNzRlZmQ3YSIsInJlc291cmNlR3JvdXBOYW1lIjoidXdfYW5vbWFseWRldGVjdGlvbiIsImFjY291bnROYW1lIjoiYW5vbWFseWRldGVjdGlvbiIsIndvcmtzcGFjZUlkIjoiMjdlYmRiZGItYjM0YS00MTg2LWE5YzYtY2Y5MjAyOWMzYmUyIn0sIm1vZGVscyI6e30sIm1vZGVsc0luZm8iOnt9fQ== | base64 --decode > /var/azureml-app/model_config_map.json\n",
      " ---> Running in 9a1441097743\n",
      " ---> cf5fd03885e4\n",
      "Step 4/5 : RUN mv '/var/azureml-app/tmp_24tw2pi.py' /var/azureml-app/main.py\n",
      " ---> Running in 21fac7fa0929\n",
      " ---> ad6fb0d19e9a\n",
      "Step 5/5 : CMD [\"runsvdir\",\"/var/runit\"]\n",
      " ---> Running in 910c586218a1\n",
      " ---> e22f848a4ccc\n",
      "Successfully built e22f848a4ccc\n",
      "Successfully tagged triton-isolation-forest:latest\n",
      "Container has been successfully cleaned up.\n",
      "Image sha256:49ff7798e896fb55ac5aba88a0d3f1df33071cb53d2663be94af88914bb71f0a successfully removed.\n",
      "Starting Docker container...\n",
      "Docker container running.\n",
      "Checking container health...\n",
      "Local webservice is running at http://localhost:6789\n"
     ]
    }
   ],
   "source": [
    "# import packages\n",
    "from azureml.core.webservice import LocalWebservice\n",
    "from azureml.core.model import InferenceConfig\n",
    "from azureml.core import Environment\n",
    "\n",
    "# setup environment (obtain environment.yml from `conda env export > environment.yml`)\n",
    "env_name,env_path = 'SampleEnv', '../../utils/environment_triton.yml'\n",
    "env = Environment.from_conda_specification(name=env_name, file_path=env_path)\n",
    "\n",
    "# setup service for deployment\n",
    "service_name = 'triton-isolation-forest'\n",
    "infer_config = InferenceConfig('../../utils/entry_script.py', environment=env)\n",
    "# TODO: make this an online webservice?\n",
    "deploy_config = LocalWebservice.deploy_configuration(port=6789)\n",
    "# deploy service\n",
    "service = Model.deploy(\n",
    "    workspace=ws,\n",
    "    name=service_name,\n",
    "    models=[model],\n",
    "    inference_config=infer_config,\n",
    "    deployment_config=deploy_config,\n",
    "    overwrite=True,\n",
    ")\n",
    "# check deployment status\n",
    "service.wait_for_deployment(show_output=True)\n"
   ]
  },
  {
   "cell_type": "code",
   "execution_count": 6,
   "id": "continuous-bullet",
   "metadata": {
    "collapsed": true
   },
   "outputs": [
    {
     "name": "stdout",
     "output_type": "stream",
     "text": [
      "Local service port: 6789\n",
      "2021-05-20T17:53:33,406828000+00:00 - rsyslog/run \n",
      "2021-05-20T17:53:33,416646100+00:00 - iot-server/run \n",
      "2021-05-20T17:53:33,430008100+00:00 - gunicorn/run \n",
      "2021-05-20T17:53:33,439782700+00:00 - nginx/run \n",
      "EdgeHubConnectionString and IOTEDGE_IOTHUBHOSTNAME are not set. Exiting...\n",
      "2021-05-20T17:53:34,314149400+00:00 - iot-server/finish 1 0\n",
      "2021-05-20T17:53:34,321777000+00:00 - Exit code 1 is normal. Not restarting iot-server.\n",
      "Starting gunicorn 20.1.0\n",
      "Listening at: http://127.0.0.1:31311 (11)\n",
      "Using worker: sync\n",
      "worker timeout is set to 300\n",
      "Booting worker with pid: 39\n",
      "SPARK_HOME not set. Skipping PySpark Initialization.\n",
      "Initializing logger\n",
      "2021-05-20 17:53:36,985 | root | INFO | Starting up app insights client\n",
      "2021-05-20 17:53:36,986 | root | INFO | Starting up request id generator\n",
      "2021-05-20 17:53:36,987 | root | INFO | Starting up app insight hooks\n",
      "2021-05-20 17:53:36,987 | root | INFO | Invoking user's init function\n",
      "Input name: float_input\n",
      "Label name: label\n",
      "2021-05-20 17:53:41,236 | root | INFO | Users's init has completed successfully\n",
      "2021-05-20 17:53:41,240 | root | INFO | Skipping middleware: dbg_model_info as it's not enabled.\n",
      "2021-05-20 17:53:41,241 | root | INFO | Skipping middleware: dbg_resource_usage as it's not enabled.\n",
      "2021-05-20 17:53:41,242 | root | INFO | Scoring timeout setting is not found. Use default timeout: 3600000 ms\n",
      "\n"
     ]
    }
   ],
   "source": [
    "# print logs\n",
    "print('Local service port: {}'.format(service.port))\n",
    "print(service.get_logs())\n"
   ]
  },
  {
   "cell_type": "code",
   "execution_count": 7,
   "id": "spiritual-oliver",
   "metadata": {
    "scrolled": true
   },
   "outputs": [],
   "source": [
    "# test model and service\n",
    "f1_test_anom = compute_f1(service, test_anom, -1)\n",
    "f1_test_norm = compute_f1(service, test_norm, 1)\n",
    "f1_train_norm = compute_f1(service, [X_train], 1)\n",
    "# create dataframe\n",
    "values = [f1_test_anom, f1_test_norm, f1_train_norm]\n",
    "index = ['Test-Anomaly', 'Test-Normal', 'Train-Normal']\n",
    "columns = ['F1-Score']\n",
    "plot_df = pd.DataFrame(values, index=index, columns=columns).sort_values('F1-Score')\n"
   ]
  },
  {
   "cell_type": "code",
   "execution_count": 8,
   "id": "loved-picture",
   "metadata": {},
   "outputs": [
    {
     "data": {
      "image/png": "[encoded data removed]",
      "text/plain": [
       "<Figure size 288x360 with 1 Axes>"
      ]
     },
     "metadata": {
      "needs_background": "light"
     },
     "output_type": "display_data"
    }
   ],
   "source": [
    "# import packages\n",
    "import matplotlib.pyplot as plt\n",
    "\n",
    "# plot scores\n",
    "fig,ax = plt.subplots(figsize=[4,5])\n",
    "ax.set(xlabel='Dataset', ylabel='F1-Score')\n",
    "ax.bar(plot_df.index, plot_df['F1-Score'])\n",
    "for idx,cat in enumerate(plot_df.index):\n",
    "    score = plot_df.loc[cat,'F1-Score']\n",
    "    ax.text(idx, score, '{:.4f}'.format(score), ha='center', va='bottom')\n"
   ]
  },
  {
   "cell_type": "code",
   "execution_count": 9,
   "id": "miniature-delaware",
   "metadata": {},
   "outputs": [
    {
     "name": "stdout",
     "output_type": "stream",
     "text": [
      "Container has been successfully cleaned up.\n"
     ]
    }
   ],
   "source": [
    "# clean up\n",
    "service.delete()\n",
    "remove_models()\n"
   ]
  },
  {
   "cell_type": "code",
   "execution_count": null,
   "id": "laughing-laptop",
   "metadata": {},
   "outputs": [],
   "source": []
  },
  {
   "cell_type": "code",
   "execution_count": null,
   "id": "mexican-adams",
   "metadata": {},
   "outputs": [],
   "source": []
  },
  {
   "cell_type": "code",
   "execution_count": null,
   "id": "major-victim",
   "metadata": {},
   "outputs": [],
   "source": []
  },
  {
   "cell_type": "code",
   "execution_count": null,
   "id": "thirty-dutch",
   "metadata": {},
   "outputs": [],
   "source": []
  },
  {
   "cell_type": "code",
   "execution_count": null,
   "id": "associate-blackjack",
   "metadata": {},
   "outputs": [],
   "source": []
  }
 ],
 "metadata": {
  "kernelspec": {
   "display_name": "Python 3",
   "language": "python",
   "name": "python3"
  },
  "language_info": {
   "codemirror_mode": {
    "name": "ipython",
    "version": 3
   },
   "file_extension": ".py",
   "mimetype": "text/x-python",
   "name": "python",
   "nbconvert_exporter": "python",
   "pygments_lexer": "ipython3",
   "version": "3.8.5"
  }
 },
 "nbformat": 4,
 "nbformat_minor": 5
}
